{
 "cells": [
  {
   "cell_type": "code",
   "execution_count": 4,
   "id": "47ba0e60-ee7f-435f-8296-5ab36218df72",
   "metadata": {},
   "outputs": [
    {
     "name": "stdout",
     "output_type": "stream",
     "text": [
      "✅ Done! Written: train.xyz, val.xyz, test.xyz\n"
     ]
    }
   ],
   "source": [
    "import numpy as np\n",
    "import os\n",
    "\n",
    "# === Define atomic number → symbol map ===\n",
    "atom_charge_dict = {\n",
    "    \"H\":1,\"He\":2,\"Li\":3,\"Be\":4,\"B\":5,\"C\":6,\"N\":7,\"O\":8,\"F\":9,\"Ne\":10,\"Na\":11,\"Mg\":12,\n",
    "    \"Al\":13,\"Si\":14,\"P\":15,\"S\":16,\"Cl\":17,\"Ar\":18,\"K\":19,\"Ca\":20,\"Sc\":21,\"Ti\":22,\"V\":23,\n",
    "    \"Cr\":24,\"Mn\":25,\"Fe\":26,\"Co\":27,\"Ni\":28,\"Cu\":29,\"Zn\":30,\"Ga\":31,\"Ge\":32,\"As\":33,\n",
    "    \"Se\":34,\"Br\":35,\"Kr\":36,\"Rb\":37,\"Sr\":38,\"Y\":39,\"Zr\":40,\"Nb\":41,\"Mo\":42,\"Tc\":43,\n",
    "    \"Ru\":44,\"Rh\":45,\"Pd\":46,\"Ag\":47,\"Cd\":48,\"In\":49,\"Sn\":50,\"Sb\":51,\"Te\":52,\"I\":53,\"Xe\":54\n",
    "}\n",
    "# invert mapping:  {atomic_number: symbol}\n",
    "Z2symbol = {v: k for k, v in atom_charge_dict.items()}\n",
    "\n",
    "# ==== Input files ====\n",
    "path = \"/scratch/moriya2524/mlp/phbdi_tddft_datas/\"\n",
    "coord = np.load(os.path.join(path, \"full_coord.npy\"))   # (nframes, natoms, 3)\n",
    "force = np.load(os.path.join(path, \"full_force.npy\"))   # (nframes, natoms, 3)\n",
    "energy = np.load(os.path.join(path, \"full_S1_energy.npy\"))  # (nframes,)\n",
    "transmom = np.load(os.path.join(path, \"full_transmom.npy\"))  # (nframes, 3)\n",
    "types = np.load(os.path.join(path, \"full_type.npy\"))    # (natoms,)\n",
    "split = np.load(os.path.join(path, \"1000_split.npz\"))   # contains idx_train, idx_val, idx_test\n",
    "\n",
    "# convert to symbols\n",
    "symbols = [Z2symbol[int(Z)] for Z in types]\n",
    "\n",
    "# === Helper to write ASE-style xyz ===\n",
    "def write_xyz(filename, indices):\n",
    "    with open(filename, \"w\") as f:\n",
    "        for i in indices:\n",
    "            natoms = len(symbols)\n",
    "            tm = transmom[i]\n",
    "            f.write(f\"{natoms}\\n\")\n",
    "            f.write(\n",
    "                f'Properties=species:S:1:pos:R:3:forces:R:3 energy={energy[i]} '\n",
    "                f'transmom={tm[0]:.8f},{tm[1]:.8f},{tm[2]:.8f} pbc=\"F F F\"\\n'\n",
    "            )\n",
    "            for a in range(natoms):\n",
    "                atom = symbols[a]\n",
    "                x, y, z = coord[i, a]\n",
    "                fx, fy, fz = force[i, a]\n",
    "                f.write(f\"{atom:2s} {x:15.8f} {y:15.8f} {z:15.8f} {fx:15.8f} {fy:15.8f} {fz:15.8f}\\n\")\n",
    "\n",
    "# === Write train/val/test sets ===\n",
    "write_xyz(os.path.join(path, \"train.xyz\"), split[\"idx_train\"])\n",
    "write_xyz(os.path.join(path, \"val.xyz\"), split[\"idx_val\"])\n",
    "write_xyz(os.path.join(path, \"test.xyz\"), split[\"idx_test\"])\n",
    "\n",
    "print(\"✅ Done! Written: train.xyz, val.xyz, test.xyz\")\n"
   ]
  },
  {
   "cell_type": "code",
   "execution_count": null,
   "id": "781220dd-e999-44c4-86bc-9a78ace3af9c",
   "metadata": {},
   "outputs": [],
   "source": []
  }
 ],
 "metadata": {
  "kernelspec": {
   "display_name": "Python 3 (ipykernel)",
   "language": "python",
   "name": "python3"
  },
  "language_info": {
   "codemirror_mode": {
    "name": "ipython",
    "version": 3
   },
   "file_extension": ".py",
   "mimetype": "text/x-python",
   "name": "python",
   "nbconvert_exporter": "python",
   "pygments_lexer": "ipython3",
   "version": "3.12.12"
  }
 },
 "nbformat": 4,
 "nbformat_minor": 5
}
